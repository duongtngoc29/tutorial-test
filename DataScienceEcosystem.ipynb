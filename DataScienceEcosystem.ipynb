{
 "cells": [
  {
   "cell_type": "markdown",
   "id": "a5e809da-ec7b-4979-b769-4e6c868c5298",
   "metadata": {},
   "source": [
    "# Data Science Tools and Ecosystem"
   ]
  },
  {
   "cell_type": "markdown",
   "id": "495fc839-237b-4974-88f2-eb45f2f3c05d",
   "metadata": {
    "tags": []
   },
   "source": [
    "### In this notebook, Data Science Tools and Ecosystem are summarized."
   ]
  },
  {
   "cell_type": "markdown",
   "id": "902e72c2-aad2-4d82-82d0-f8128057f671",
   "metadata": {},
   "source": [
    "#### Objectives:\n",
    "- Increase the amount of knowledge about data science\n",
    "- Understand how to analyze data\n",
    "- Proficient in languages used for data scientists"
   ]
  },
  {
   "cell_type": "markdown",
   "id": "1e6c134e-34d3-4dc2-bd1b-39dc0209ce57",
   "metadata": {},
   "source": [
    "### Some of the popular languages that Data Scientists use are:\n",
    "##### Ordered list:\n",
    "##### 1.Python\n",
    "##### 2.R\n",
    "##### 3.Java\n",
    "\n"
   ]
  },
  {
   "cell_type": "markdown",
   "id": "26f3e3a3-f9c0-42f5-bc2f-83ef4cc335a6",
   "metadata": {},
   "source": [
    "### Some of the commonly used libraries used by Data Scientists include:\n",
    "#### Ordered list:\n",
    "##### 1.Numpy\n",
    "##### 2.Sklearn\n",
    "##### 3.Matplotlib\n",
    "\n"
   ]
  },
  {
   "cell_type": "markdown",
   "id": "2fc74f8b-a078-4e02-a645-3bcafee6f44a",
   "metadata": {},
   "source": [
    "### Data Science Tools\n",
    "| List | Development environment |\n",
    "| -------------| ------ |\n",
    "| 1 | Jupyter Notebook |\n",
    "| 2 | RStudio |\n",
    "| 3 | Watson Studio |"
   ]
  },
  {
   "cell_type": "markdown",
   "id": "a663af2b-f7a6-4322-9a03-6969a3d99434",
   "metadata": {},
   "source": [
    "### 1.Below are a few examples of evaluating arithmetic expressions in Python"
   ]
  },
  {
   "cell_type": "code",
   "execution_count": 1,
   "id": "e0c335f8-5a74-45da-959f-3bdaee6af660",
   "metadata": {},
   "outputs": [
    {
     "data": {
      "text/plain": [
       "17"
      ]
     },
     "execution_count": 1,
     "metadata": {},
     "output_type": "execute_result"
    }
   ],
   "source": [
    "#This a simple arithmetic expression to mutiply then add integers\n",
    "(3*4)+5"
   ]
  },
  {
   "cell_type": "code",
   "execution_count": 3,
   "id": "161b28b2-a6d9-4db1-9cf7-819d6451639f",
   "metadata": {},
   "outputs": [
    {
     "data": {
      "text/plain": [
       "3.3333333333333335"
      ]
     },
     "execution_count": 3,
     "metadata": {},
     "output_type": "execute_result"
    }
   ],
   "source": [
    "#This will convert 200 minutes to hours by diving by 60\n",
    "200/60\n"
   ]
  },
  {
   "cell_type": "markdown",
   "id": "f0aafce5-5cde-4b00-9fa9-667931d116bf",
   "metadata": {},
   "source": [
    "## Author\n",
    "#### Ngoc"
   ]
  },
  {
   "cell_type": "code",
   "execution_count": null,
   "id": "238f30bf-20fb-421d-aab5-d4ccf919b2b1",
   "metadata": {},
   "outputs": [],
   "source": []
  }
 ],
 "metadata": {
  "kernelspec": {
   "display_name": "Python 3 (ipykernel)",
   "language": "python",
   "name": "python3"
  },
  "language_info": {
   "codemirror_mode": {
    "name": "ipython",
    "version": 3
   },
   "file_extension": ".py",
   "mimetype": "text/x-python",
   "name": "python",
   "nbconvert_exporter": "python",
   "pygments_lexer": "ipython3",
   "version": "3.10.9"
  }
 },
 "nbformat": 4,
 "nbformat_minor": 5
}
